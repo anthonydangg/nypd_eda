{
 "cells": [
  {
   "cell_type": "markdown",
   "metadata": {},
   "source": [
    "# Is There a Racial Bias in the NYPD?\n",
    "\n",
    "**Anthony Dang**"
   ]
  },
  {
   "cell_type": "markdown",
   "metadata": {},
   "source": [
    "## Summary of Findings\n",
    "\n",
    "### Introduction\n",
    "***Question: Are white officer vs. non-white complainant cases more likely to go against the complainant?***\n",
    "\n",
    "The dataset we will be using is a database of 12,000 civilian complaints against the New York City police. In the dataset, important information is given to help investigate our question. For example, we will be mainly using the ethnicities of both the complainant and officer, and the dispostion of the alleged conduct from the dataset to answer our question. Using the mentioned parts of the dataset is useful for answering the question because it allows us to see the connection between ethnicity and the result of a case. We can use tests, such as permutation tests, to see if white officers are winning more cases due to chance or conclude that there is another factor causing white officers to win more cases. \n",
    "\n",
    "### Cleaning and EDA\n",
    "\n",
    "\n",
    "The data cleaning process I took first involved dropping unneccesary columns. For example, I dropped the rank abbreviaton columns because they just repeated other data in a harder to read format (the abbreviations are harder to understand as I wasn't familiar with police vernacular). This helped the data generating process because it made the data easier to work with by lessening the amount of data I needed to rummage through. Next, I replaced the missing ethnicity data with NaN values. These included blank data fields, 'Unknown' values, and 'Refused' values. This is important because working with NaN values will help make analyzing the data easier and help canonicalize the dataset. \n",
    "\n",
    "The columns of the dataset involving the case's start and end time were in an inconvenient format. The dates were seperated into individual columns so I combined them into one and converted it into a pd.TimeStamp to allow for easier analysis of time later. \n",
    "\n",
    "There are other columns with missing data (e.g. shield number, gender, etc.) but I didn't canonicalize them with NaN values because they are not useful for answering our question.\n",
    "\n",
    "For the univariate analysis of the data, I chose to analyze the board disposition, complainant's ethnicity, and officer's ethnicity. \n",
    "\n",
    "#### Univariate Analysis\n",
    "The univariate analysis of the board disposition involved replacing all the substantiated values (e.g. 'Substantiated (Charges)','Substantiated (Formalized Training)', etc.) into one singular 'Substantiated' value. Doing this allows for easier comparison and understanding of the result of the case. Also, the data with the label 'Unsubstantiated' was dropped because this label is not in favor of either the officer or complainant. Even though this drops values from our dataset, I believe having a neutral label doesn't benefit answering our question and leads to ambiguity. \n",
    "\n",
    "The univariate analysis of the complainant's ethnicity demonstrates Black and Hispanic numbers dominating the demographics.\n",
    "\n",
    "The univariate analysis of the officer's ethnicity showcases White as the dominating demographic.\n",
    "\n",
    "All univariate analyses are graphed in the Code section.\n",
    "#### Bivariate Analysis\n",
    "The bivariate analysis includes a pivot table/bar graph with the proportion of exonerated and substantiated cases for each complainant's ethnicity, pivot table/bar with the proportion of exonerated and substantiated cases for each officer's ethnicity, and the distribution of the case time of white and non-white complainants. These graphs and pivot tables helped with creating a hypothesis test, shown in the Code.\n",
    "\n",
    "#### Interesting Aggregates\n",
    "The mean of case_times demonstrate that on average non-white complainant cases take 30 more days than white complainant cases.\n",
    "\n",
    "The proportion of non-white/white complainants being exonerated or substantiated show that the cases typically favor white complainants.\n",
    "\n",
    "The proprotion of non-white/white officers being exonerated or substantiated show that the cases typically favor white officers.\n",
    "\n",
    "These aggregates already help answer the question without any tests because it shows cases typically favoring white people on either side, officer or complainant. Keeping this in mind will give more credibility to the hypothesis done later. \n",
    "\n",
    "### Assessment of Missingness\n",
    "The complainant's gender could be not missing at random because of possible societal judgement. For example, a transgender person may be less likely to report their gender because of transphobia and sexism in society.\n",
    "\n",
    "I analyzed the complainant's ethnicity to see the columns it was MAR dependent on and not MAR dependent. \n",
    "\n",
    "I first checked if the complainant's ethincity was MAR dependent on the officer being white or non-white. To do this, I created a new column with that gave a boolean value on whether or not the complainant's ethnicity was missing or not. Then, I performed a permutation test by shuffling the ethnicities and using the total variation distance as my test statistic. The p-value given from the permutation test was 0.0 which demonstrates statistical significance that the missingness of the complainant's ethnicity is MAR dependent on the officer being white or non-white. \n",
    "\n",
    "Then, I check if the complainant's ethnicity was dependent on the month the case was received. Doing the same process as the previous permutation test and test statistic, I got a p-value of 0.076. I believe this is not statistically signifcant, using the significance level 5%, and conclude that the ethnicity of the complainant is not dependent on the month the case was receieved. \n",
    "\n",
    "\n",
    "### Hypothesis Test\n",
    "**Null hypothesis**: In the NYPD, the distribution of white cops vs. non-white complainant's board disposition is the same as the distribution of all cops vs. non-white complainants.\n",
    "\n",
    "**Alternative hypothesis**: In the NYPD, the distribution of white cops vs. non-white complainant's board disposition is a different distribution from all cops vs. non-white complainants.\n",
    "\n",
    "**Test Statistic**: Total Variation Distance\n",
    "\n",
    "**Significance Level**: 5%\n",
    "\n",
    "From the permutation test, I got a p-value of 0.085. We can conclude that the we cannot reject the null hypothesis. There is a chance that the observed difference can be due to chance. We cannot answer the question but this data implies that the cases with white officers may not be biased against non-white complainants."
   ]
  },
  {
   "cell_type": "markdown",
   "metadata": {},
   "source": [
    "## Code"
   ]
  },
  {
   "cell_type": "code",
   "execution_count": 2,
   "metadata": {
    "ExecuteTime": {
     "end_time": "2019-10-31T23:36:28.652554Z",
     "start_time": "2019-10-31T23:36:27.180520Z"
    }
   },
   "outputs": [],
   "source": [
    "import matplotlib.pyplot as plt\n",
    "import numpy as np\n",
    "import os\n",
    "import pandas as pd\n",
    "import seaborn as sns"
   ]
  },
  {
   "cell_type": "code",
   "execution_count": 3,
   "metadata": {
    "ExecuteTime": {
     "end_time": "2019-10-31T23:36:28.657068Z",
     "start_time": "2019-10-31T23:36:28.654650Z"
    }
   },
   "outputs": [],
   "source": [
    "#Importing the CCRB dateset and creating a copy of it for analyzing\n",
    "nypd = pd.read_csv(os.path.join('data', 'allegations_202007271729.csv'))\n",
    "df = nypd.copy()"
   ]
  },
  {
   "cell_type": "markdown",
   "metadata": {},
   "source": [
    "### Cleaning and EDA"
   ]
  },
  {
   "cell_type": "markdown",
   "metadata": {},
   "source": [
    "Cleaning the overall DataFrame for easier analysis of the data for later."
   ]
  },
  {
   "cell_type": "code",
   "execution_count": 4,
   "metadata": {},
   "outputs": [],
   "source": [
    "#Drop these cols cause they repeat data\n",
    "df= df.drop(columns = ['rank_abbrev_incident','rank_abbrev_now'])\n",
    "\n",
    "# Replace missing ethnicity values with NaN\n",
    "df = df.replace({'Unknown': np.NaN, 'Refused': np.NaN})\n",
    "# df['complainant_ethnicity'].unique()\n",
    "\n",
    "#Convert date to pd.TimeStamp\n",
    "df['date_received'] = pd.to_datetime(df['month_received'].astype(str) + ' - ' + df['year_received'].astype(str))\n",
    "df['date_closed'] = pd.to_datetime(df['month_closed'].astype(str) + ' - ' + df['year_closed'].astype(str))\n",
    "df = df.drop(columns = ['month_received','year_received','month_closed','year_closed'])\n"
   ]
  },
  {
   "cell_type": "markdown",
   "metadata": {},
   "source": [
    "#### Univariate Analysis"
   ]
  },
  {
   "cell_type": "markdown",
   "metadata": {},
   "source": [
    "Analyzes ethnicities and disposistions to see if there is any biases. This code sets up the data for easy graphing."
   ]
  },
  {
   "cell_type": "code",
   "execution_count": 5,
   "metadata": {},
   "outputs": [],
   "source": [
    "#Replace all Substantiated into one cohesive 'Substantiated'\n",
    "df = df.replace(dict.fromkeys(['Substantiated (Charges)','Substantiated (Formalized Training)',\n",
    "                                      'Substantiated (Command Discipline A)', 'Substantiated (Command Discipline)',\n",
    "                                      'Substantiated (Command Discipline B)', 'Substantiated (Command Lvl Instructions)',\n",
    "                                      'Substantiated (Instructions)', 'Substantiated (No Recommendations)',\n",
    "                                      'Substantiated (MOS Unidentified)'], 'Substantiated'))\n",
    "\n",
    "\n",
    "#Drop this because it is neutral. Does not go for the officer or complainant\n",
    "df = df[df['board_disposition'] != 'Unsubstantiated'] "
   ]
  },
  {
   "cell_type": "markdown",
   "metadata": {},
   "source": [
    "Graph of the board dispositions. Gives us a general sense of how the cases typically result in. "
   ]
  },
  {
   "cell_type": "code",
   "execution_count": 6,
   "metadata": {},
   "outputs": [
    {
     "data": {
      "text/plain": [
       "<AxesSubplot:>"
      ]
     },
     "execution_count": 6,
     "metadata": {},
     "output_type": "execute_result"
    },
    {
     "data": {
      "image/png": "[encoded data removed]",
      "text/plain": [
       "<Figure size 576x432 with 1 Axes>"
      ]
     },
     "metadata": {
      "needs_background": "light"
     },
     "output_type": "display_data"
    }
   ],
   "source": [
    "#plot\n",
    "df['board_disposition'].value_counts().sort_values().plot(kind='barh',figsize = (8,6))"
   ]
  },
  {
   "cell_type": "markdown",
   "metadata": {},
   "source": [
    "Graph of the complainant ethnicities. Show us the breakdown of the demographics of complainants."
   ]
  },
  {
   "cell_type": "code",
   "execution_count": 7,
   "metadata": {},
   "outputs": [
    {
     "data": {
      "text/plain": [
       "<AxesSubplot:>"
      ]
     },
     "execution_count": 7,
     "metadata": {},
     "output_type": "execute_result"
    },
    {
     "data": {
      "image/png": "[encoded data removed]",
      "text/plain": [
       "<Figure size 576x432 with 1 Axes>"
      ]
     },
     "metadata": {
      "needs_background": "light"
     },
     "output_type": "display_data"
    }
   ],
   "source": [
    "#plot\n",
    "df['complainant_ethnicity'].value_counts().sort_values().plot(kind='barh', figsize = (8,6))"
   ]
  },
  {
   "cell_type": "markdown",
   "metadata": {},
   "source": [
    "Graph of the officer ethnicities. Show us the breakdown of the demographics of officers."
   ]
  },
  {
   "cell_type": "code",
   "execution_count": 8,
   "metadata": {},
   "outputs": [
    {
     "data": {
      "text/plain": [
       "<AxesSubplot:>"
      ]
     },
     "execution_count": 8,
     "metadata": {},
     "output_type": "execute_result"
    },
    {
     "data": {
      "image/png": "[encoded data removed]",
      "text/plain": [
       "<Figure size 576x432 with 1 Axes>"
      ]
     },
     "metadata": {
      "needs_background": "light"
     },
     "output_type": "display_data"
    }
   ],
   "source": [
    "#plot\n",
    "df['mos_ethnicity'].value_counts().sort_values().plot(kind='barh', figsize = (8,6))"
   ]
  },
  {
   "cell_type": "markdown",
   "metadata": {},
   "source": [
    "From the two ethnicity graphs, we can see that there is a disparity in the dominant races for officers and complainants"
   ]
  },
  {
   "cell_type": "markdown",
   "metadata": {},
   "source": [
    "#### Bivariate Analysis"
   ]
  },
  {
   "cell_type": "markdown",
   "metadata": {},
   "source": [
    "We want a DataFrame of only white officers because we want to answer the question \"Are white officer vs. non-white complainant cases more likely to go against the complainant?\". We will see if plots of white officers and case dispositions have any relation."
   ]
  },
  {
   "cell_type": "code",
   "execution_count": 9,
   "metadata": {},
   "outputs": [
    {
     "data": {
      "text/html": [
       "<div>\n",
       "<style scoped>\n",
       "    .dataframe tbody tr th:only-of-type {\n",
       "        vertical-align: middle;\n",
       "    }\n",
       "\n",
       "    .dataframe tbody tr th {\n",
       "        vertical-align: top;\n",
       "    }\n",
       "\n",
       "    .dataframe thead th {\n",
       "        text-align: right;\n",
       "    }\n",
       "</style>\n",
       "<table border=\"1\" class=\"dataframe\">\n",
       "  <thead>\n",
       "    <tr style=\"text-align: right;\">\n",
       "      <th></th>\n",
       "      <th>mos_ethnicity</th>\n",
       "      <th>complainant_ethnicity</th>\n",
       "      <th>board_disposition</th>\n",
       "    </tr>\n",
       "  </thead>\n",
       "  <tbody>\n",
       "    <tr>\n",
       "      <th>1</th>\n",
       "      <td>White</td>\n",
       "      <td>Black</td>\n",
       "      <td>Substantiated</td>\n",
       "    </tr>\n",
       "    <tr>\n",
       "      <th>2</th>\n",
       "      <td>White</td>\n",
       "      <td>Black</td>\n",
       "      <td>Substantiated</td>\n",
       "    </tr>\n",
       "    <tr>\n",
       "      <th>3</th>\n",
       "      <td>White</td>\n",
       "      <td>Black</td>\n",
       "      <td>Substantiated</td>\n",
       "    </tr>\n",
       "    <tr>\n",
       "      <th>6</th>\n",
       "      <td>White</td>\n",
       "      <td>White</td>\n",
       "      <td>Substantiated</td>\n",
       "    </tr>\n",
       "    <tr>\n",
       "      <th>10</th>\n",
       "      <td>White</td>\n",
       "      <td>NaN</td>\n",
       "      <td>Substantiated</td>\n",
       "    </tr>\n",
       "  </tbody>\n",
       "</table>\n",
       "</div>"
      ],
      "text/plain": [
       "   mos_ethnicity complainant_ethnicity board_disposition\n",
       "1          White                 Black     Substantiated\n",
       "2          White                 Black     Substantiated\n",
       "3          White                 Black     Substantiated\n",
       "6          White                 White     Substantiated\n",
       "10         White                   NaN     Substantiated"
      ]
     },
     "execution_count": 9,
     "metadata": {},
     "output_type": "execute_result"
    }
   ],
   "source": [
    "#Get DataFrame where its white officers only\n",
    "white_mos = df.copy()\n",
    "white_mos = white_mos[['mos_ethnicity','complainant_ethnicity','board_disposition']]\n",
    "white_mos = white_mos[white_mos['mos_ethnicity'] == 'White']\n",
    "white_mos.head()"
   ]
  },
  {
   "cell_type": "markdown",
   "metadata": {},
   "source": [
    "Created a pivot table to better understand the DataFrame. The table breaks down the ethnicities and their proportion getting exonerated or substantiated. The complainants want the outcome of substantiated."
   ]
  },
  {
   "cell_type": "code",
   "execution_count": 10,
   "metadata": {},
   "outputs": [
    {
     "data": {
      "text/html": [
       "<div>\n",
       "<style scoped>\n",
       "    .dataframe tbody tr th:only-of-type {\n",
       "        vertical-align: middle;\n",
       "    }\n",
       "\n",
       "    .dataframe tbody tr th {\n",
       "        vertical-align: top;\n",
       "    }\n",
       "\n",
       "    .dataframe thead th {\n",
       "        text-align: right;\n",
       "    }\n",
       "</style>\n",
       "<table border=\"1\" class=\"dataframe\">\n",
       "  <thead>\n",
       "    <tr style=\"text-align: right;\">\n",
       "      <th>board_disposition</th>\n",
       "      <th>Exonerated</th>\n",
       "      <th>Substantiated</th>\n",
       "    </tr>\n",
       "    <tr>\n",
       "      <th>complainant_ethnicity</th>\n",
       "      <th></th>\n",
       "      <th></th>\n",
       "    </tr>\n",
       "  </thead>\n",
       "  <tbody>\n",
       "    <tr>\n",
       "      <th>American Indian</th>\n",
       "      <td>0.002900</td>\n",
       "      <td>0.005688</td>\n",
       "    </tr>\n",
       "    <tr>\n",
       "      <th>Asian</th>\n",
       "      <td>0.018850</td>\n",
       "      <td>0.025597</td>\n",
       "    </tr>\n",
       "    <tr>\n",
       "      <th>Black</th>\n",
       "      <td>0.636781</td>\n",
       "      <td>0.597838</td>\n",
       "    </tr>\n",
       "    <tr>\n",
       "      <th>Hispanic</th>\n",
       "      <td>0.215805</td>\n",
       "      <td>0.224972</td>\n",
       "    </tr>\n",
       "    <tr>\n",
       "      <th>Other Race</th>\n",
       "      <td>0.023683</td>\n",
       "      <td>0.022184</td>\n",
       "    </tr>\n",
       "    <tr>\n",
       "      <th>White</th>\n",
       "      <td>0.101982</td>\n",
       "      <td>0.123720</td>\n",
       "    </tr>\n",
       "  </tbody>\n",
       "</table>\n",
       "</div>"
      ],
      "text/plain": [
       "board_disposition      Exonerated  Substantiated\n",
       "complainant_ethnicity                           \n",
       "American Indian          0.002900       0.005688\n",
       "Asian                    0.018850       0.025597\n",
       "Black                    0.636781       0.597838\n",
       "Hispanic                 0.215805       0.224972\n",
       "Other Race               0.023683       0.022184\n",
       "White                    0.101982       0.123720"
      ]
     },
     "execution_count": 10,
     "metadata": {},
     "output_type": "execute_result"
    }
   ],
   "source": [
    "#pivot table is white officers and proportion of ethnicity\n",
    "disp_cnts = white_mos.pivot_table(index='complainant_ethnicity', columns='board_disposition', aggfunc='size')\n",
    "disp_distr = disp_cnts / disp_cnts.sum()\n",
    "disp_distr"
   ]
  },
  {
   "cell_type": "markdown",
   "metadata": {},
   "source": [
    "Exonerated is not in the complainant's favor. From this graph we can already see that 'Black' and 'Other Race' are exonerated more than substantiated."
   ]
  },
  {
   "cell_type": "code",
   "execution_count": 11,
   "metadata": {},
   "outputs": [
    {
     "data": {
      "image/png": "[encoded data removed]",
      "text/plain": [
       "<Figure size 576x432 with 1 Axes>"
      ]
     },
     "metadata": {
      "needs_background": "light"
     },
     "output_type": "display_data"
    }
   ],
   "source": [
    "#plot\n",
    "disp_distr.plot(kind='barh', title='Distribution of Complainant Ethnicity for White MOS Cases, Conditional on Disposition',figsize = (8,6));"
   ]
  },
  {
   "cell_type": "markdown",
   "metadata": {},
   "source": [
    "This is a plot of the cop's ethnicities and their disposition. Exonerated here is in favor of the cops. We can see that White cops are the only ethnicity that has more exonerated than substantiated"
   ]
  },
  {
   "cell_type": "code",
   "execution_count": 12,
   "metadata": {},
   "outputs": [
    {
     "data": {
      "image/png": "[encoded data removed]",
      "text/plain": [
       "<Figure size 576x432 with 1 Axes>"
      ]
     },
     "metadata": {
      "needs_background": "light"
     },
     "output_type": "display_data"
    }
   ],
   "source": [
    "#All cops but only nonwhite complainant\n",
    "\n",
    "#Create a DataFrame with all cops but only nonwhite complainant\n",
    "all_mos_nwc = df.copy()\n",
    "all_mos_nwc = all_mos_nwc[['mos_ethnicity','complainant_ethnicity','board_disposition']]\n",
    "all_mos_nwc = all_mos_nwc[all_mos_nwc['complainant_ethnicity'] != 'White']\n",
    "\n",
    "#Create a pivot table (similar to the previous one)\n",
    "mos_disp_cnts = all_mos_nwc.pivot_table(index='mos_ethnicity', columns='board_disposition', aggfunc='size')\n",
    "mos_disp_distr = mos_disp_cnts / mos_disp_cnts.sum()\n",
    "mos_disp_distr.plot(kind='barh', title='Distribution of MOS Ethnicity for Non-White Complainant Cases, Conditional on Disposition',figsize = (8,6));"
   ]
  },
  {
   "cell_type": "markdown",
   "metadata": {},
   "source": [
    "Graph of the Case Time of Whites vs. Non-White complainants. The results show that white cases are typically faster than non-white cases. This helps the analysis cause it helps prove that white people are treated differently during these cases."
   ]
  },
  {
   "cell_type": "code",
   "execution_count": 14,
   "metadata": {},
   "outputs": [
    {
     "data": {
      "text/plain": [
       "0        305\n",
       "1        274\n",
       "2        274\n",
       "3        427\n",
       "4        184\n",
       "        ... \n",
       "33351    305\n",
       "33352    184\n",
       "33355    184\n",
       "33356    184\n",
       "33357    184\n",
       "Name: case_time, Length: 17910, dtype: int64"
      ]
     },
     "execution_count": 14,
     "metadata": {},
     "output_type": "execute_result"
    },
    {
     "data": {
      "image/png": "[encoded data removed]",
      "text/plain": [
       "<Figure size 432x288 with 1 Axes>"
      ]
     },
     "metadata": {
      "needs_background": "light"
     },
     "output_type": "display_data"
    }
   ],
   "source": [
    "#time of white case vs. nonwhite cases\n",
    "\n",
    "#Create a DataFrame with necessary columns only\n",
    "time = df.copy()\n",
    "time = time[['date_received','date_closed','complainant_ethnicity']]\n",
    "\n",
    "#Create a new column that calculates the length it took for a case to finish\n",
    "time['case_time'] = time['date_closed'] - time['date_received']\n",
    "time = time.drop(columns = {'date_received','date_closed'})\n",
    "time = time.replace(dict.fromkeys(['Black', 'Hispanic', 'Other Race', 'Asian', 'American Indian'], 'Non-White'))\n",
    "time['case_time'] = time.apply(lambda row: row.case_time.days, axis=1)\n",
    "\n",
    "#Plot\n",
    "G = time.groupby('complainant_ethnicity')\n",
    "ax = G.get_group('White')['case_time'].rename('White').plot(kind='hist', density=True, alpha=0.75, \n",
    "                                                          ec='w', bins=np.arange(0, 800, 50),\n",
    "                                                          legend=True, title='Distribution of Case Time (White vs. Non-White)')\n",
    "G.get_group('Non-White')['case_time'].rename('Non-White').plot(kind='hist', density=True, alpha=0.75, \n",
    "                                                       ec='w', bins=np.arange(0, 800, 50),\n",
    "                                                       ax=ax, legend=True);"
   ]
  },
  {
   "cell_type": "markdown",
   "metadata": {},
   "source": [
    "#### Interesting Aggregates"
   ]
  },
  {
   "cell_type": "markdown",
   "metadata": {},
   "source": [
    "The mean case time for non-white and white complainants. Non-whites have longer case-times by 30 days"
   ]
  },
  {
   "cell_type": "code",
   "execution_count": 28,
   "metadata": {},
   "outputs": [
    {
     "data": {
      "text/html": [
       "<div>\n",
       "<style scoped>\n",
       "    .dataframe tbody tr th:only-of-type {\n",
       "        vertical-align: middle;\n",
       "    }\n",
       "\n",
       "    .dataframe tbody tr th {\n",
       "        vertical-align: top;\n",
       "    }\n",
       "\n",
       "    .dataframe thead th {\n",
       "        text-align: right;\n",
       "    }\n",
       "</style>\n",
       "<table border=\"1\" class=\"dataframe\">\n",
       "  <thead>\n",
       "    <tr style=\"text-align: right;\">\n",
       "      <th></th>\n",
       "      <th>case_time</th>\n",
       "    </tr>\n",
       "    <tr>\n",
       "      <th>complainant_ethnicity</th>\n",
       "      <th></th>\n",
       "    </tr>\n",
       "  </thead>\n",
       "  <tbody>\n",
       "    <tr>\n",
       "      <th>Non-White</th>\n",
       "      <td>308.188165</td>\n",
       "    </tr>\n",
       "    <tr>\n",
       "      <th>White</th>\n",
       "      <td>279.613297</td>\n",
       "    </tr>\n",
       "  </tbody>\n",
       "</table>\n",
       "</div>"
      ],
      "text/plain": [
       "                        case_time\n",
       "complainant_ethnicity            \n",
       "Non-White              308.188165\n",
       "White                  279.613297"
      ]
     },
     "execution_count": 28,
     "metadata": {},
     "output_type": "execute_result"
    }
   ],
   "source": [
    "#mean in days\n",
    "G.mean()"
   ]
  },
  {
   "cell_type": "markdown",
   "metadata": {},
   "source": [
    "Pivot table of complainant's ethnicities in terms of Non-White and White. The table has the proportions that are exonerated and substantiated. This table only includes the data of white officers. The proprotions demonstrate that White complainants have favorable results."
   ]
  },
  {
   "cell_type": "code",
   "execution_count": 31,
   "metadata": {},
   "outputs": [
    {
     "data": {
      "text/html": [
       "<div>\n",
       "<style scoped>\n",
       "    .dataframe tbody tr th:only-of-type {\n",
       "        vertical-align: middle;\n",
       "    }\n",
       "\n",
       "    .dataframe tbody tr th {\n",
       "        vertical-align: top;\n",
       "    }\n",
       "\n",
       "    .dataframe thead th {\n",
       "        text-align: right;\n",
       "    }\n",
       "</style>\n",
       "<table border=\"1\" class=\"dataframe\">\n",
       "  <thead>\n",
       "    <tr style=\"text-align: right;\">\n",
       "      <th>complainant_ethnicity</th>\n",
       "      <th>Non-White</th>\n",
       "      <th>White</th>\n",
       "    </tr>\n",
       "    <tr>\n",
       "      <th>board_disposition</th>\n",
       "      <th></th>\n",
       "      <th></th>\n",
       "    </tr>\n",
       "  </thead>\n",
       "  <tbody>\n",
       "    <tr>\n",
       "      <th>Exonerated</th>\n",
       "      <td>0.546712</td>\n",
       "      <td>0.492415</td>\n",
       "    </tr>\n",
       "    <tr>\n",
       "      <th>Substantiated</th>\n",
       "      <td>0.453288</td>\n",
       "      <td>0.507585</td>\n",
       "    </tr>\n",
       "  </tbody>\n",
       "</table>\n",
       "</div>"
      ],
      "text/plain": [
       "complainant_ethnicity  Non-White     White\n",
       "board_disposition                         \n",
       "Exonerated              0.546712  0.492415\n",
       "Substantiated           0.453288  0.507585"
      ]
     },
     "execution_count": 31,
     "metadata": {},
     "output_type": "execute_result"
    }
   ],
   "source": [
    "#white officers only, all complainants\n",
    "\n",
    "#Create a pivot table with board_dispostion as index and complainant_ethnicity as the columns. \n",
    "pt = white_mos.copy()\n",
    "\n",
    "#Replace ethnicities with Non-White for easier comparison\n",
    "pt = pt.replace(dict.fromkeys(['Black', 'Hispanic', 'Other Race', 'Asian', 'American Indian'], 'Non-White'))\n",
    "pt_disp_cnts = pt.pivot_table(index='board_disposition', columns='complainant_ethnicity', aggfunc='size')\n",
    "\n",
    "#Divide by .sum() because of different numbers of White and Non-White people.\n",
    "table = pt_disp_cnts / pt_disp_cnts.sum()\n",
    "table"
   ]
  },
  {
   "cell_type": "markdown",
   "metadata": {},
   "source": [
    "Pivot table of officer's ethnicities in terms of Non-White and White. The table has the proportions that are exonerated and substantiated. This table includes the data all officers. The proprotions demonstrate that White officers have favorable results."
   ]
  },
  {
   "cell_type": "code",
   "execution_count": 30,
   "metadata": {},
   "outputs": [
    {
     "data": {
      "text/html": [
       "<div>\n",
       "<style scoped>\n",
       "    .dataframe tbody tr th:only-of-type {\n",
       "        vertical-align: middle;\n",
       "    }\n",
       "\n",
       "    .dataframe tbody tr th {\n",
       "        vertical-align: top;\n",
       "    }\n",
       "\n",
       "    .dataframe thead th {\n",
       "        text-align: right;\n",
       "    }\n",
       "</style>\n",
       "<table border=\"1\" class=\"dataframe\">\n",
       "  <thead>\n",
       "    <tr style=\"text-align: right;\">\n",
       "      <th>mos_ethnicity</th>\n",
       "      <th>Non-White</th>\n",
       "      <th>White</th>\n",
       "    </tr>\n",
       "    <tr>\n",
       "      <th>board_disposition</th>\n",
       "      <th></th>\n",
       "      <th></th>\n",
       "    </tr>\n",
       "  </thead>\n",
       "  <tbody>\n",
       "    <tr>\n",
       "      <th>Exonerated</th>\n",
       "      <td>0.526142</td>\n",
       "      <td>0.555969</td>\n",
       "    </tr>\n",
       "    <tr>\n",
       "      <th>Substantiated</th>\n",
       "      <td>0.473858</td>\n",
       "      <td>0.444031</td>\n",
       "    </tr>\n",
       "  </tbody>\n",
       "</table>\n",
       "</div>"
      ],
      "text/plain": [
       "mos_ethnicity      Non-White     White\n",
       "board_disposition                     \n",
       "Exonerated          0.526142  0.555969\n",
       "Substantiated       0.473858  0.444031"
      ]
     },
     "execution_count": 30,
     "metadata": {},
     "output_type": "execute_result"
    }
   ],
   "source": [
    "#all officers, non-white complainants\n",
    "pt2 = all_mos_nwc.copy()\n",
    "\n",
    "#Replace ethnicities with Non-White for easier comparison\n",
    "pt2 = pt2.replace(dict.fromkeys(['Black', 'Hispanic', 'Other Race', 'Asian', 'American Indian'], 'Non-White'))\n",
    "\n",
    "#Create a pivot table with board_dispostion as index and officer ethnicity as the columns.\n",
    "pt2_disp_cnts = pt2.pivot_table(index='board_disposition', columns='mos_ethnicity', aggfunc='size')\n",
    "\n",
    "#Divide by .sum() because of different numbers of White and Non-White people.\n",
    "pt2_disp_cnts / pt2_disp_cnts.sum()"
   ]
  },
  {
   "cell_type": "markdown",
   "metadata": {},
   "source": [
    "These pivot tables will be helpful for creating the hypothesis test."
   ]
  },
  {
   "cell_type": "markdown",
   "metadata": {},
   "source": [
    "### Assessment of Missingness"
   ]
  },
  {
   "cell_type": "markdown",
   "metadata": {},
   "source": [
    "**Not missing at random**. Complainant gender may be not missing at random because of social stigma against gender (e.g. transphobia, sexism). The complainant may not want to report their gender because of this."
   ]
  },
  {
   "cell_type": "code",
   "execution_count": 36,
   "metadata": {
    "ExecuteTime": {
     "end_time": "2019-10-31T23:36:28.662099Z",
     "start_time": "2019-10-31T23:36:28.660016Z"
    }
   },
   "outputs": [
    {
     "data": {
      "text/plain": [
       "2687"
      ]
     },
     "execution_count": 36,
     "metadata": {},
     "output_type": "execute_result"
    }
   ],
   "source": [
    "# The amount of missing values in the gender column\n",
    "gender = df.copy()\n",
    "\n",
    "gender['complainant_gender'].isna().sum()"
   ]
  },
  {
   "cell_type": "markdown",
   "metadata": {},
   "source": [
    "**Missing at Random**. Does the missingness of the complainant ethnicity depend on the mos being white or nonwhite?"
   ]
  },
  {
   "cell_type": "code",
   "execution_count": 37,
   "metadata": {},
   "outputs": [
    {
     "data": {
      "text/html": [
       "<div>\n",
       "<style scoped>\n",
       "    .dataframe tbody tr th:only-of-type {\n",
       "        vertical-align: middle;\n",
       "    }\n",
       "\n",
       "    .dataframe tbody tr th {\n",
       "        vertical-align: top;\n",
       "    }\n",
       "\n",
       "    .dataframe thead th {\n",
       "        text-align: right;\n",
       "    }\n",
       "</style>\n",
       "<table border=\"1\" class=\"dataframe\">\n",
       "  <thead>\n",
       "    <tr style=\"text-align: right;\">\n",
       "      <th></th>\n",
       "      <th>complainant_ethnicity</th>\n",
       "      <th>mos_ethnicity</th>\n",
       "      <th>ce_isnull</th>\n",
       "    </tr>\n",
       "  </thead>\n",
       "  <tbody>\n",
       "    <tr>\n",
       "      <th>0</th>\n",
       "      <td>Black</td>\n",
       "      <td>Non-White</td>\n",
       "      <td>False</td>\n",
       "    </tr>\n",
       "    <tr>\n",
       "      <th>1</th>\n",
       "      <td>Black</td>\n",
       "      <td>White</td>\n",
       "      <td>False</td>\n",
       "    </tr>\n",
       "    <tr>\n",
       "      <th>2</th>\n",
       "      <td>Black</td>\n",
       "      <td>White</td>\n",
       "      <td>False</td>\n",
       "    </tr>\n",
       "    <tr>\n",
       "      <th>3</th>\n",
       "      <td>Black</td>\n",
       "      <td>White</td>\n",
       "      <td>False</td>\n",
       "    </tr>\n",
       "    <tr>\n",
       "      <th>4</th>\n",
       "      <td>NaN</td>\n",
       "      <td>Non-White</td>\n",
       "      <td>True</td>\n",
       "    </tr>\n",
       "  </tbody>\n",
       "</table>\n",
       "</div>"
      ],
      "text/plain": [
       "  complainant_ethnicity mos_ethnicity  ce_isnull\n",
       "0                 Black     Non-White      False\n",
       "1                 Black         White      False\n",
       "2                 Black         White      False\n",
       "3                 Black         White      False\n",
       "4                   NaN     Non-White       True"
      ]
     },
     "execution_count": 37,
     "metadata": {},
     "output_type": "execute_result"
    }
   ],
   "source": [
    "#Create DataFrame copy\n",
    "mar = df.copy()\n",
    "mar = mar[['complainant_ethnicity','mos_ethnicity']]\n",
    "\n",
    "#Create column of boolean values that state whether the complainant ethnicity is missing or not\n",
    "mar['ce_isnull'] = mar['complainant_ethnicity'].isna()\n",
    "\n",
    "#Replace non-white ethnicities 'Non-White'\n",
    "mar['mos_ethnicity'] = mar['mos_ethnicity'].replace(dict.\n",
    "                    fromkeys(['Black', 'Hispanic', 'Other Race', 'Asian', 'American Indian'], 'Non-White'))\n",
    "mar.head()"
   ]
  },
  {
   "cell_type": "markdown",
   "metadata": {},
   "source": [
    "The missingness of the complainant's ethnicity plotted against white/non-white officers. We can see that there is more missing data when the officer is white."
   ]
  },
  {
   "cell_type": "code",
   "execution_count": 44,
   "metadata": {},
   "outputs": [
    {
     "data": {
      "image/png": "[encoded data removed]",
      "text/plain": [
       "<Figure size 432x288 with 1 Axes>"
      ]
     },
     "metadata": {
      "needs_background": "light"
     },
     "output_type": "display_data"
    }
   ],
   "source": [
    "#Create pivot table of the missingness.\n",
    "emp_distributions = (\n",
    "    mar\n",
    "    .pivot_table(columns='ce_isnull', index='mos_ethnicity', aggfunc='size')\n",
    "    .apply(lambda x:x / x.sum())\n",
    ")\n",
    "\n",
    "#plot\n",
    "emp_distributions.plot(kind='barh', title='distribution of mos_ethnicity');"
   ]
  },
  {
   "cell_type": "markdown",
   "metadata": {},
   "source": [
    "We will use the test statistic TVD to see if this is MAR"
   ]
  },
  {
   "cell_type": "code",
   "execution_count": 45,
   "metadata": {},
   "outputs": [
    {
     "data": {
      "text/plain": [
       "0.04687653847877549"
      ]
     },
     "execution_count": 45,
     "metadata": {},
     "output_type": "execute_result"
    }
   ],
   "source": [
    "#Calculate TVD\n",
    "observed_tvd = np.sum(np.abs(emp_distributions.diff(axis=1).iloc[:,-1])) / 2\n",
    "observed_tvd"
   ]
  },
  {
   "cell_type": "markdown",
   "metadata": {},
   "source": [
    "Perform a permutation test on the data to see if the complainant's ethnicity is MAR dependent on the cop's ethnicity"
   ]
  },
  {
   "cell_type": "code",
   "execution_count": 46,
   "metadata": {},
   "outputs": [],
   "source": [
    "n_repetitions = 500\n",
    "\n",
    "mar_mos = mar.copy()[['mos_ethnicity', 'ce_isnull']]\n",
    "tvds = []\n",
    "for _ in range(n_repetitions):\n",
    "    \n",
    "    #Shuffle the officer's ethnicities\n",
    "    shuffled_ethnicity = (\n",
    "        mar_mos['mos_ethnicity']\n",
    "        .sample(replace=False, frac=1)\n",
    "        .reset_index(drop=True)\n",
    "    )\n",
    "    \n",
    "    #Assign the shuffled data\n",
    "    shuffled = (\n",
    "        mar_mos\n",
    "        .assign(**{'Shuffled Ethnicity': shuffled_ethnicity})\n",
    "    )\n",
    "    \n",
    "    #Create a pivot table to calculate empirical distributions like the pivot table earlier.\n",
    "    shuffed_emp_distributions = (\n",
    "        shuffled\n",
    "        .pivot_table(columns='ce_isnull', index='Shuffled Ethnicity', values=None, aggfunc='size')\n",
    "        .apply(lambda x:x/x.sum())\n",
    "    )\n",
    "    \n",
    "    #Calculate TVD\n",
    "    tvd = np.sum(np.abs(shuffed_emp_distributions.diff(axis=1).iloc[:,-1])) / 2\n",
    "    \n",
    "    tvds.append(tvd)"
   ]
  },
  {
   "cell_type": "markdown",
   "metadata": {},
   "source": [
    "Plot of the permutations"
   ]
  },
  {
   "cell_type": "code",
   "execution_count": 51,
   "metadata": {},
   "outputs": [
    {
     "data": {
      "image/png": "[encoded data removed]",
      "text/plain": [
       "<Figure size 432x288 with 1 Axes>"
      ]
     },
     "metadata": {
      "needs_background": "light"
     },
     "output_type": "display_data"
    }
   ],
   "source": [
    "#plot\n",
    "pd.Series(tvds).plot(kind='hist', density=True, alpha=0.8)\n",
    "plt.scatter(observed_tvd, 0, color='red')\n",
    "plt.title(label = 'Shuffled Officer Ethnicity Distribution');"
   ]
  },
  {
   "cell_type": "markdown",
   "metadata": {},
   "source": [
    "The p-Value is 0.0. This shows that the complainant's ethnicity is MAR dependent on the officer's ethnicity."
   ]
  },
  {
   "cell_type": "code",
   "execution_count": 52,
   "metadata": {},
   "outputs": [
    {
     "data": {
      "text/plain": [
       "0.0"
      ]
     },
     "execution_count": 52,
     "metadata": {},
     "output_type": "execute_result"
    }
   ],
   "source": [
    "#P-Value\n",
    "np.count_nonzero(tvds >= observed_tvd) / len(tvds)"
   ]
  },
  {
   "cell_type": "markdown",
   "metadata": {},
   "source": [
    "**Missing at Random**. Does the missingness of the complainant ethnicity depend on the starting month of the case?"
   ]
  },
  {
   "cell_type": "code",
   "execution_count": 53,
   "metadata": {},
   "outputs": [
    {
     "data": {
      "text/html": [
       "<div>\n",
       "<style scoped>\n",
       "    .dataframe tbody tr th:only-of-type {\n",
       "        vertical-align: middle;\n",
       "    }\n",
       "\n",
       "    .dataframe tbody tr th {\n",
       "        vertical-align: top;\n",
       "    }\n",
       "\n",
       "    .dataframe thead th {\n",
       "        text-align: right;\n",
       "    }\n",
       "</style>\n",
       "<table border=\"1\" class=\"dataframe\">\n",
       "  <thead>\n",
       "    <tr style=\"text-align: right;\">\n",
       "      <th></th>\n",
       "      <th>complainant_ethnicity</th>\n",
       "      <th>date_received</th>\n",
       "      <th>ce_isnull</th>\n",
       "    </tr>\n",
       "  </thead>\n",
       "  <tbody>\n",
       "    <tr>\n",
       "      <th>0</th>\n",
       "      <td>Black</td>\n",
       "      <td>July</td>\n",
       "      <td>False</td>\n",
       "    </tr>\n",
       "    <tr>\n",
       "      <th>1</th>\n",
       "      <td>Black</td>\n",
       "      <td>November</td>\n",
       "      <td>False</td>\n",
       "    </tr>\n",
       "    <tr>\n",
       "      <th>2</th>\n",
       "      <td>Black</td>\n",
       "      <td>November</td>\n",
       "      <td>False</td>\n",
       "    </tr>\n",
       "    <tr>\n",
       "      <th>3</th>\n",
       "      <td>Black</td>\n",
       "      <td>July</td>\n",
       "      <td>False</td>\n",
       "    </tr>\n",
       "    <tr>\n",
       "      <th>4</th>\n",
       "      <td>NaN</td>\n",
       "      <td>August</td>\n",
       "      <td>True</td>\n",
       "    </tr>\n",
       "  </tbody>\n",
       "</table>\n",
       "</div>"
      ],
      "text/plain": [
       "  complainant_ethnicity date_received  ce_isnull\n",
       "0                 Black          July      False\n",
       "1                 Black      November      False\n",
       "2                 Black      November      False\n",
       "3                 Black          July      False\n",
       "4                   NaN        August       True"
      ]
     },
     "execution_count": 53,
     "metadata": {},
     "output_type": "execute_result"
    }
   ],
   "source": [
    "#Create DataFrame copy\n",
    "mar_nd = df.copy()\n",
    "\n",
    "#Get useful cols\n",
    "mar_nd = mar_nd[['complainant_ethnicity','date_received']]\n",
    "\n",
    "#Convert pd.TimeStamp to string (month name)\n",
    "mar_nd['date_received'] = mar_nd['date_received'].dt.month_name()\n",
    "\n",
    "#Boolean values for missing\n",
    "mar_nd['ce_isnull'] = mar_nd['complainant_ethnicity'].isna()\n",
    "\n",
    "mar_nd.head()"
   ]
  },
  {
   "cell_type": "markdown",
   "metadata": {},
   "source": [
    "Plot the empirical distribution of the missingness of complainant ethnicity and month received"
   ]
  },
  {
   "cell_type": "code",
   "execution_count": 54,
   "metadata": {},
   "outputs": [
    {
     "data": {
      "image/png": "[encoded data removed]",
      "text/plain": [
       "<Figure size 432x288 with 1 Axes>"
      ]
     },
     "metadata": {
      "needs_background": "light"
     },
     "output_type": "display_data"
    }
   ],
   "source": [
    "mon_emp_distributions = (\n",
    "    mar_nd\n",
    "    .pivot_table(columns='ce_isnull', index='date_received', aggfunc='size')\n",
    "    .apply(lambda x:x / x.sum())\n",
    ")\n",
    "\n",
    "mon_emp_distributions.plot(kind='barh', title='Distribution of Month Received');"
   ]
  },
  {
   "cell_type": "markdown",
   "metadata": {},
   "source": [
    "Calculate the observed TVD."
   ]
  },
  {
   "cell_type": "code",
   "execution_count": 55,
   "metadata": {},
   "outputs": [
    {
     "data": {
      "text/plain": [
       "0.044456303644298346"
      ]
     },
     "execution_count": 55,
     "metadata": {},
     "output_type": "execute_result"
    }
   ],
   "source": [
    "#calculate tvd\n",
    "mon_observed_tvd = np.sum(np.abs(mon_emp_distributions.diff(axis=1).iloc[:,-1])) / 2\n",
    "mon_observed_tvd"
   ]
  },
  {
   "cell_type": "markdown",
   "metadata": {},
   "source": [
    "Perform permutation for months and complainant's ethnicity"
   ]
  },
  {
   "cell_type": "code",
   "execution_count": 59,
   "metadata": {},
   "outputs": [
    {
     "data": {
      "image/png": "[encoded data removed]",
      "text/plain": [
       "<Figure size 432x288 with 1 Axes>"
      ]
     },
     "metadata": {
      "needs_background": "light"
     },
     "output_type": "display_data"
    }
   ],
   "source": [
    "n_repetitions = 500\n",
    "\n",
    "mon_mar_nd = mar_nd.copy()[['date_received', 'ce_isnull']]\n",
    "mon_tvds = []\n",
    "for _ in range(n_repetitions):\n",
    "    \n",
    "    #Shuffle the months\n",
    "    shuffled_months = (\n",
    "        mon_mar_nd['date_received']\n",
    "        .sample(replace=False, frac=1)\n",
    "        .reset_index(drop=True)\n",
    "    )\n",
    "    \n",
    "    #Assign shuffled\n",
    "    shuffled = (\n",
    "        mon_mar_nd\n",
    "        .assign(**{'Shuffled Months': shuffled_months})\n",
    "    )\n",
    "    \n",
    "    #Create pivot table to calculate proportions\n",
    "    shuffed_emp_distributions = (\n",
    "        shuffled\n",
    "        .pivot_table(columns='ce_isnull', index='Shuffled Months', values=None, aggfunc='size')\n",
    "        .apply(lambda x:x/x.sum())\n",
    "    )\n",
    "    \n",
    "    tvd = np.sum(np.abs(shuffed_emp_distributions.diff(axis=1).iloc[:,-1])) / 2\n",
    "    \n",
    "    mon_tvds.append(tvd)\n",
    "pd.Series(mon_tvds).plot(kind='hist', density=True, alpha=0.8)\n",
    "plt.scatter(mon_observed_tvd, 0, color='red')\n",
    "plt.title(label = 'Shuffled Months Distribution');"
   ]
  },
  {
   "cell_type": "markdown",
   "metadata": {},
   "source": [
    "The p-value is 0.076. This means that the complainant's ethnicity is not MAR dependent on the month the case is received. We can reject with a significance level of 5%"
   ]
  },
  {
   "cell_type": "code",
   "execution_count": 60,
   "metadata": {},
   "outputs": [
    {
     "data": {
      "text/plain": [
       "0.076"
      ]
     },
     "execution_count": 60,
     "metadata": {},
     "output_type": "execute_result"
    }
   ],
   "source": [
    "np.count_nonzero(mon_tvds >= mon_observed_tvd) / len(mon_tvds)"
   ]
  },
  {
   "cell_type": "markdown",
   "metadata": {},
   "source": [
    "### Hypothesis Testing"
   ]
  },
  {
   "cell_type": "markdown",
   "metadata": {},
   "source": [
    "**Null hypothesis**: In the NYPD, the distribution of white cops vs. non-white complainant's board disposition is the same as the distribution of all cops vs. non-white complainants.\n",
    "\n",
    "**Alternative hypothesis**: In the NYPD, the distribution of white cops vs. non-white complainant's board disposition is a different distribution from all cops vs. non-white complainants.\n",
    "\n",
    "**Test Statistic**: Total Variation Distance\n",
    "\n",
    "**Significance Level**: 5%"
   ]
  },
  {
   "cell_type": "markdown",
   "metadata": {},
   "source": [
    "The table we will be using for the hypothesis test"
   ]
  },
  {
   "cell_type": "code",
   "execution_count": 75,
   "metadata": {},
   "outputs": [
    {
     "data": {
      "text/html": [
       "<div>\n",
       "<style scoped>\n",
       "    .dataframe tbody tr th:only-of-type {\n",
       "        vertical-align: middle;\n",
       "    }\n",
       "\n",
       "    .dataframe tbody tr th {\n",
       "        vertical-align: top;\n",
       "    }\n",
       "\n",
       "    .dataframe thead th {\n",
       "        text-align: right;\n",
       "    }\n",
       "</style>\n",
       "<table border=\"1\" class=\"dataframe\">\n",
       "  <thead>\n",
       "    <tr style=\"text-align: right;\">\n",
       "      <th>complainant_ethnicity</th>\n",
       "      <th>Non-White</th>\n",
       "      <th>White</th>\n",
       "    </tr>\n",
       "    <tr>\n",
       "      <th>board_disposition</th>\n",
       "      <th></th>\n",
       "      <th></th>\n",
       "    </tr>\n",
       "  </thead>\n",
       "  <tbody>\n",
       "    <tr>\n",
       "      <th>Exonerated</th>\n",
       "      <td>0.546712</td>\n",
       "      <td>0.492415</td>\n",
       "    </tr>\n",
       "    <tr>\n",
       "      <th>Substantiated</th>\n",
       "      <td>0.453288</td>\n",
       "      <td>0.507585</td>\n",
       "    </tr>\n",
       "  </tbody>\n",
       "</table>\n",
       "</div>"
      ],
      "text/plain": [
       "complainant_ethnicity  Non-White     White\n",
       "board_disposition                         \n",
       "Exonerated              0.546712  0.492415\n",
       "Substantiated           0.453288  0.507585"
      ]
     },
     "execution_count": 75,
     "metadata": {},
     "output_type": "execute_result"
    }
   ],
   "source": [
    "#White officers only.\n",
    "table"
   ]
  },
  {
   "cell_type": "markdown",
   "metadata": {},
   "source": [
    "Function that calculates the tvd from a DataFrame. We are calculating the TVD of the table above. This is helpful for repeated experiments."
   ]
  },
  {
   "cell_type": "code",
   "execution_count": 76,
   "metadata": {},
   "outputs": [],
   "source": [
    "def tvd_of_groups(df):\n",
    "    #Create a pivot table. See above to see similar table\n",
    "    cnts = df.pivot_table(index='board_disposition', columns='complainant_ethnicity', aggfunc='size')\n",
    "    \n",
    "    #Normalize the values\n",
    "    distr = cnts / cnts.sum() \n",
    "    \n",
    "    #Return TVD\n",
    "    return distr.diff(axis=1).iloc[:, -1].abs().sum() / 2 "
   ]
  },
  {
   "cell_type": "markdown",
   "metadata": {},
   "source": [
    "Calculate observed TVD for the table. See above for the table. "
   ]
  },
  {
   "cell_type": "code",
   "execution_count": 77,
   "metadata": {},
   "outputs": [
    {
     "data": {
      "text/plain": [
       "0.05429638204376319"
      ]
     },
     "execution_count": 77,
     "metadata": {},
     "output_type": "execute_result"
    }
   ],
   "source": [
    "obs = table.diff(axis=1).iloc[:, -1].abs().sum() / 2\n",
    "obs"
   ]
  },
  {
   "cell_type": "markdown",
   "metadata": {},
   "source": [
    "Permutation test."
   ]
  },
  {
   "cell_type": "code",
   "execution_count": 97,
   "metadata": {},
   "outputs": [],
   "source": [
    "N = 1000\n",
    "hyp_tvds = []\n",
    "\n",
    "for _ in range(N):\n",
    "    \n",
    "    #shuffle the board disposition\n",
    "    s = pt['board_disposition'].sample(frac=1).reset_index(drop=True)\n",
    "    \n",
    "    shuffled = pt.loc[:, ['complainant_ethnicity']].assign(board_disposition=s)\n",
    "    \n",
    "    hyp_tvds.append(tvd_of_groups(shuffled))\n",
    "\n",
    "hyp_tvds = pd.Series(hyp_tvds)"
   ]
  },
  {
   "cell_type": "markdown",
   "metadata": {},
   "source": [
    "Plot the permutation test. The p-Value is 0.087"
   ]
  },
  {
   "cell_type": "code",
   "execution_count": 99,
   "metadata": {},
   "outputs": [
    {
     "data": {
      "image/png": "[encoded data removed]",
      "text/plain": [
       "<Figure size 432x288 with 1 Axes>"
      ]
     },
     "metadata": {
      "needs_background": "light"
     },
     "output_type": "display_data"
    }
   ],
   "source": [
    "#calculate p-value\n",
    "pval = (hyp_tvds >= obs).sum() / N\n",
    "hyp_tvds.plot(kind='hist', density=True, ec='w', bins=20, title=f'P-value: {pval}', label='Simulated TVDs')\n",
    "plt.axvline(x=obs, color='red', linewidth=3, label='P-value')\n",
    "\n",
    "# 5% significance level. Create p-value cutoff line\n",
    "perc = np.percentile(hyp_tvds, 95)\n",
    "plt.axvline(x=perc, color='y', linewidth=3, label='P-value cutoff')\n",
    "\n",
    "plt.legend();"
   ]
  }
 ],
 "metadata": {
  "kernelspec": {
   "display_name": "Python 3 (ipykernel)",
   "language": "python",
   "name": "python3"
  },
  "language_info": {
   "codemirror_mode": {
    "name": "ipython",
    "version": 3
   },
   "file_extension": ".py",
   "mimetype": "text/x-python",
   "name": "python",
   "nbconvert_exporter": "python",
   "pygments_lexer": "ipython3",
   "version": "3.8.13"
  }
 },
 "nbformat": 4,
 "nbformat_minor": 2
}
